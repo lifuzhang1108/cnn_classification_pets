{
 "cells": [
  {
   "cell_type": "code",
   "execution_count": 68,
   "metadata": {},
   "outputs": [],
   "source": [
    "# Import Necessary Modules\n",
    "\n",
    "import glob\n",
    "import matplotlib.pyplot as plt \n",
    "from skimage import io\n",
    "import numpy as np\n",
    "%matplotlib inline "
   ]
  },
  {
   "cell_type": "code",
   "execution_count": 69,
   "metadata": {},
   "outputs": [],
   "source": [
    "#This function reads in all n images in catsfolder/ and dogsfolder/. \n",
    "#Each 64 x 64 image is reshaped into a length-4096 row vector. \n",
    "#These row vectors are stacked on top of one another to get a data matrix\n",
    "#X of size n x 4096. We also generate a -1 label if the row vector corresponds\n",
    "#to a cat image and a +1 label if the row vector corresponds to a dog image\n",
    "#and stack these on top of one another to get a label vector y of length n.\n",
    "\n",
    "def read_data():\n",
    "    \n",
    "    #get image filenames\n",
    "    cat_locs = glob.glob('catsfolder/*.jpg')\n",
    "    dog_locs = glob.glob('dogsfolder/*.jpg')\n",
    "    num_cats = len(cat_locs)\n",
    "    num_dogs = len(dog_locs)\n",
    "\n",
    "    #initialize empty arrays\n",
    "    X_cats = np.zeros((num_cats,64*64))\n",
    "    X_dogs = np.zeros((num_dogs,64*64))\n",
    "    y_cats = np.zeros((num_cats,1))\n",
    "    y_dogs = np.zeros((num_dogs,1))\n",
    "               \n",
    "    #Load data, reshape into a 1D vector and set labels\n",
    "    \n",
    "    keep_track = 0\n",
    "\n",
    "    for i in range(len(cat_locs)):\n",
    "        img = cat_locs[i]\n",
    "        im = io.imread(img)\n",
    "        im = im.reshape(64*64)\n",
    "        X_cats[i,:] = im\n",
    "        y_cats[i] = -1.0\n",
    "        keep_track += 1\n",
    "\n",
    "    for i in range(len(dog_locs)):\n",
    "        img = dog_locs[i]\n",
    "        im = io.imread(img)\n",
    "        im = im.reshape(64*64)\n",
    "        X_dogs[i,:] = im\n",
    "        y_dogs[i] = 1.0\n",
    "        keep_track += 1\n",
    "    \n",
    "    # combine both datasets\n",
    "    X = np.append(X_cats,X_dogs,0)\n",
    "    y = np.append(y_cats,y_dogs)\n",
    "    \n",
    "    return X, y "
   ]
  },
  {
   "cell_type": "code",
   "execution_count": 70,
   "metadata": {},
   "outputs": [],
   "source": [
    "#This function takes in an n x 4096 data matrix X and an index i. It extracts\n",
    "#the ith row of X and displays it as a grayscale 64 x 64 image.\n",
    "\n",
    "def show_image(X, i):\n",
    "    #select image\n",
    "    image = X[i,:]\n",
    "    #reshape make into a square\n",
    "    image = image.reshape((64,64))\n",
    "    #display the image\n",
    "    plt.imshow(image,'gray')"
   ]
  },
  {
   "cell_type": "code",
   "execution_count": 71,
   "metadata": {},
   "outputs": [],
   "source": [
    "#This function takes in a vector of true labels ytrue\n",
    "#and a vector of guessed labels yguess and reports back\n",
    "#the accuracy of the guesses out of 100%.\n",
    "\n",
    "def calculate_accuracy(ytrue, yguess):\n",
    "    \n",
    "    # compare your predictions with the correct labels to determine how many of your predictions were correct.\n",
    "    correct = sum((ytrue == yguess))\n",
    "    total = len(ytrue)\n",
    "    accuracy = 100*float(correct)/float(total)\n",
    "    # divide the number of correct predictions by the number of total samples to determine your classification accuracy.\n",
    "    return accuracy"
   ]
  },
  {
   "cell_type": "code",
   "execution_count": 72,
   "metadata": {},
   "outputs": [],
   "source": [
    "#This function takes in a data matrix X, label vector y, and \n",
    "#the desired percentage testpercent. It randomly assigns  \n",
    "#testpercent of the rows of X and y to Xtest and ytest. \n",
    "#The remaining data is assigned to Xtrain and ytrain.\n",
    "\n",
    "def split_data(X,y,testpercent):\n",
    "        \n",
    "    [n, d] = X.shape\n",
    "    \n",
    "    ntest = int(round(n*(float(testpercent)/100)))\n",
    "    ntrain = int(round(n - ntest))\n",
    "        \n",
    "    Xtrain = np.zeros((ntrain,d))\n",
    "    Xtest = np.zeros((ntest,d))\n",
    "    ytrain = np.zeros((ntrain,1))\n",
    "    ytest = np.zeros((ntest,1))   \n",
    "        \n",
    "    Data = np.column_stack((X,y))\n",
    "    Data = np.random.permutation(Data)\n",
    "    \n",
    "    for i in range(ntest):\n",
    "        Xtest[i,:] = Data[i,0:d]\n",
    "        ytest[i] = Data[i,d]\n",
    "        \n",
    "    for i in range(ntrain):\n",
    "        Xtrain[i,:] = Data[i+ntest,0:d]\n",
    "        ytrain[i] = Data[i+ntest,d]\n",
    "        \n",
    "    return Xtrain, ytrain, Xtest, ytest"
   ]
  },
  {
   "cell_type": "code",
   "execution_count": 73,
   "metadata": {},
   "outputs": [],
   "source": [
    "#This code implements the PCA exactly as in MATLAB so as to be consistent.\n",
    "#It takes in an n x d data matrix X and returns a d x d orthonormal matrix pcaX. \n",
    "#Each column of pcaX contains a basis vector, sorted by decreasing variance.\n",
    "\n",
    "def pca(X):\n",
    "    covX = np.cov(X,rowvar=False)\n",
    "    [Lambda,Vtranspose] = np.linalg.eig(covX)\n",
    "    neworder = np.argsort(-abs(Lambda))\n",
    "    pcaX = Vtranspose[:,neworder]\n",
    "    pcaX = pcaX.real\n",
    "    return pcaX"
   ]
  },
  {
   "cell_type": "code",
   "execution_count": 74,
   "metadata": {},
   "outputs": [],
   "source": [
    "#This function takes in a data matrix X and a label\n",
    "#vector y and outputs the average cat image and average dog image.\n",
    "\n",
    "def average_pet(X,y):\n",
    "    catindex=((y.flatten()-1)/(-2)).astype(bool)\n",
    "    dogindex=((y.flatten()+1)/(2)).astype(bool)\n",
    "    catarr=X[catindex]\n",
    "    dogarr=X[dogindex]\n",
    "    avgcat=catarr.mean(axis=0)\n",
    "    avgdog=dogarr.mean(axis=0)\n",
    "    return avgcat, avgdog"
   ]
  },
  {
   "cell_type": "code",
   "execution_count": 75,
   "metadata": {},
   "outputs": [],
   "source": [
    "#This function takes in a training data matrix Xtrain, training\n",
    "#label vector ytrain and uses them to compute the average cat\n",
    "#and dog vectors. It also takes in a data matrix Xrun and \n",
    "#produces a vector of label guesses yguess, corresponding to whether\n",
    "#each row of Xtest is closer to the average cat or average dog.\n",
    "\n",
    "def closest_average(Xtrain,ytrain,Xrun):\n",
    "    \n",
    "    #FILL IN CODE\n",
    "    avgcat, avgdog=average_pet(Xtrain,ytrain)\n",
    "    yguess=np.zeros((len(Xrun),1))\n",
    "    for i in range (len(Xrun)):\n",
    "        mse_cat = np.square(np.subtract(avgcat,Xrun[i])).mean() \n",
    "        mse_dog = np.square(np.subtract(avgdog,Xrun[i])).mean()\n",
    "        if mse_dog>mse_cat:\n",
    "            yguess[i]=-1\n",
    "        else:\n",
    "            yguess[i]=1\n",
    "    return yguess"
   ]
  },
  {
   "cell_type": "code",
   "execution_count": 76,
   "metadata": {},
   "outputs": [],
   "source": [
    "#This function takes in a training data matrix Xtrain, training\n",
    "#label vector ytrain and uses them to compute the average cat\n",
    "#and dog vectors. It also takes in a data matrix Xrun and \n",
    "#produces a vector of label guesses yguess. Each guess is found\n",
    "#by searching through Xtrain to find the closest row, and then \n",
    "#outputting its label.\n",
    "\n",
    "def nearest_neighbor(Xtrain,ytrain,Xrun):\n",
    "    yguess=np.zeros((len(Xrun),1))\n",
    "    for i in range(len(Xrun)):\n",
    "        min_index=0\n",
    "        min_mse=np.square(np.subtract(Xrun[i],Xtrain[0])).mean()\n",
    "        for j in range(len(Xtrain)):\n",
    "            mse = np.square(np.subtract(Xrun[i],Xtrain[j])).mean()\n",
    "            if mse<min_mse:\n",
    "                min_index=j\n",
    "                min_mse=mse\n",
    "        yguess[i]=ytrain[min_index]\n",
    "\n",
    "\n",
    "    return yguess"
   ]
  },
  {
   "cell_type": "code",
   "execution_count": 94,
   "metadata": {},
   "outputs": [],
   "source": [
    "#This function takes in a training data matrix Xtrain, training\n",
    "#label vector ytrain and uses them to compute ordinary-least-squares\n",
    "#vector b. It also takes in a data matrix Xrun and \n",
    "#produces a vector of label guesses yguess, corresponding to the sign\n",
    "#of the linear prediction.\n",
    "\n",
    "def linear_regression(Xtrain,ytrain,Xrun):\n",
    "    #model = LinearRegression()\n",
    "    #model.fit(Xtrain, ytrain)\n",
    "    #y_pred = model.predict(Xrun)\n",
    "    #yguess=np.sign(y_pred)\n",
    "    b=np.matmul(np.matmul(np.linalg.pinv(np.matmul(Xtrain.T, Xtrain)),Xtrain.T),ytrain)\n",
    "    y_pred=np.matmul(Xrun,b)\n",
    "    yguess=np.sign(y_pred)\n",
    "    return yguess"
   ]
  },
  {
   "cell_type": "code",
   "execution_count": 96,
   "metadata": {},
   "outputs": [],
   "source": [
    "#This function takes in a training data matrix Xtrain, training\n",
    "#label vector ytrain and uses them to compute the PCA basis. \n",
    "#It also takes in a data matrix Xrun and a dimension k\n",
    "#and uses the top-k vectors in the PCA basis to reduce the \n",
    "#dimension of Xtrain and Xrun. Finally, it uses the reduced data\n",
    "#as inputs to the linear_regression function to produce \n",
    "#a vector of label guesses yguess.\n",
    "\n",
    "def pca_regression(Xtrain,ytrain,Xrun,k):\n",
    "    X=np.concatenate((Xtrain, Xrun), axis=0)\n",
    "    Xtrain_reduced=pca(X.T)[0:len(Xtrain),0:k]\n",
    "    Xrun_reduced=pca(X.T)[len(Xtrain):,0:k]\n",
    "    yguess=linear_regression(Xtrain_reduced,ytrain,Xrun_reduced)\n",
    "    return yguess"
   ]
  },
  {
   "cell_type": "code",
   "execution_count": 88,
   "metadata": {},
   "outputs": [
    {
     "data": {
      "image/png": "[encoded data removed]",
      "text/plain": [
       "<Figure size 432x288 with 1 Axes>"
      ]
     },
     "metadata": {
      "needs_background": "light"
     },
     "output_type": "display_data"
    }
   ],
   "source": [
    "#11.1\n",
    "X,y = read_data()\n",
    "avgcat, avgdog=average_pet(X,y)\n",
    "img=np.zeros((2,4096))\n",
    "img[0]=avgcat\n",
    "img[1]=avgdog\n",
    "show_image(img,0)\n"
   ]
  },
  {
   "cell_type": "code",
   "execution_count": 89,
   "metadata": {},
   "outputs": [
    {
     "data": {
      "image/png": "[encoded data removed]",
      "text/plain": [
       "<Figure size 432x288 with 1 Axes>"
      ]
     },
     "metadata": {
      "needs_background": "light"
     },
     "output_type": "display_data"
    }
   ],
   "source": [
    "show_image(img,1)"
   ]
  },
  {
   "cell_type": "code",
   "execution_count": 90,
   "metadata": {},
   "outputs": [
    {
     "name": "stdout",
     "output_type": "stream",
     "text": [
      "82.0\n"
     ]
    }
   ],
   "source": [
    "#11.2\n",
    "yguess=closest_average(Xtrain,ytrain,Xtest)\n",
    "print(calculate_accuracy(ytest, yguess))"
   ]
  },
  {
   "cell_type": "code",
   "execution_count": 91,
   "metadata": {},
   "outputs": [
    {
     "name": "stdout",
     "output_type": "stream",
     "text": [
      "80.25\n"
     ]
    }
   ],
   "source": [
    "yguess=nearest_neighbor(Xtrain,ytrain,Xtest)\n",
    "print(calculate_accuracy(ytest, yguess))"
   ]
  },
  {
   "cell_type": "code",
   "execution_count": 95,
   "metadata": {},
   "outputs": [
    {
     "name": "stdout",
     "output_type": "stream",
     "text": [
      "80.25\n"
     ]
    }
   ],
   "source": [
    "\n",
    "yguess=linear_regression(Xtrain,ytrain,Xtest)\n",
    "print(calculate_accuracy(ytest, yguess))"
   ]
  },
  {
   "cell_type": "code",
   "execution_count": null,
   "metadata": {},
   "outputs": [],
   "source": [
    "\n",
    "yguess=linear_regression(Xtrain,ytrain,Xtest)\n",
    "print(calculate_accuracy(ytest, yguess))"
   ]
  }
 ],
 "metadata": {
  "kernelspec": {
   "display_name": "Python 3",
   "language": "python",
   "name": "python3"
  },
  "language_info": {
   "codemirror_mode": {
    "name": "ipython",
    "version": 3
   },
   "file_extension": ".py",
   "mimetype": "text/x-python",
   "name": "python",
   "nbconvert_exporter": "python",
   "pygments_lexer": "ipython3",
   "version": "3.7.5"
  }
 },
 "nbformat": 4,
 "nbformat_minor": 2
}
