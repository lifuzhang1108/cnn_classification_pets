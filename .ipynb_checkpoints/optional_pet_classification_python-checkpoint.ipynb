{
 "cells": [
  {
   "cell_type": "code",
   "execution_count": 259,
   "metadata": {},
   "outputs": [],
   "source": [
    "# Import Necessary Modules\n",
    "\n",
    "import glob\n",
    "import matplotlib.pyplot as plt \n",
    "from skimage import io\n",
    "import numpy as np\n",
    "%matplotlib inline "
   ]
  },
  {
   "cell_type": "code",
   "execution_count": 260,
   "metadata": {},
   "outputs": [],
   "source": [
    "#This function reads in all n images in catsfolder/ and dogsfolder/. \n",
    "#Each 64 x 64 image is reshaped into a length-4096 row vector. \n",
    "#These row vectors are stacked on top of one another to get a data matrix\n",
    "#X of size n x 4096. We also generate a -1 label if the row vector corresponds\n",
    "#to a cat image and a +1 label if the row vector corresponds to a dog image\n",
    "#and stack these on top of one another to get a label vector y of length n.\n",
    "\n",
    "def read_data():\n",
    "    \n",
    "    #get image filenames\n",
    "    cat_locs = glob.glob('catsfolder/*.jpg')\n",
    "    dog_locs = glob.glob('dogsfolder/*.jpg')\n",
    "    num_cats = len(cat_locs)\n",
    "    num_dogs = len(dog_locs)\n",
    "\n",
    "    #initialize empty arrays\n",
    "    X_cats = np.zeros((num_cats,64*64))\n",
    "    X_dogs = np.zeros((num_dogs,64*64))\n",
    "    y_cats = np.zeros((num_cats,1))\n",
    "    y_dogs = np.zeros((num_dogs,1))\n",
    "               \n",
    "    #Load data, reshape into a 1D vector and set labels\n",
    "    \n",
    "    keep_track = 0\n",
    "\n",
    "    for i in range(len(cat_locs)):\n",
    "        img = cat_locs[i]\n",
    "        im = io.imread(img)\n",
    "        im = im.reshape(64*64)\n",
    "        X_cats[i,:] = im\n",
    "        y_cats[i] = -1.0\n",
    "        keep_track += 1\n",
    "\n",
    "    for i in range(len(dog_locs)):\n",
    "        img = dog_locs[i]\n",
    "        im = io.imread(img)\n",
    "        im = im.reshape(64*64)\n",
    "        X_dogs[i,:] = im\n",
    "        y_dogs[i] = 1.0\n",
    "        keep_track += 1\n",
    "    \n",
    "    # combine both datasets\n",
    "    X = np.append(X_cats,X_dogs,0)\n",
    "    y = np.append(y_cats,y_dogs)\n",
    "    \n",
    "    return X, y "
   ]
  },
  {
   "cell_type": "code",
   "execution_count": 261,
   "metadata": {},
   "outputs": [],
   "source": [
    "#This function takes in an n x 4096 data matrix X and an index i. It extracts\n",
    "#the ith row of X and displays it as a grayscale 64 x 64 image.\n",
    "\n",
    "def show_image(X, i):\n",
    "    #select image\n",
    "    image = X[i,:]\n",
    "    #reshape make into a square\n",
    "    image = image.reshape((64,64))\n",
    "    #display the image\n",
    "    plt.imshow(image,'gray')"
   ]
  },
  {
   "cell_type": "code",
   "execution_count": 262,
   "metadata": {},
   "outputs": [],
   "source": [
    "#This function takes in a vector of true labels ytrue\n",
    "#and a vector of guessed labels yguess and reports back\n",
    "#the accuracy of the guesses out of 100%.\n",
    "\n",
    "def calculate_accuracy(ytrue, yguess):\n",
    "    \n",
    "    # compare your predictions with the correct labels to determine how many of your predictions were correct.\n",
    "    correct = sum((ytrue == yguess))\n",
    "    total = len(ytrue)\n",
    "    accuracy = 100*float(correct)/float(total)\n",
    "    # divide the number of correct predictions by the number of total samples to determine your classification accuracy.\n",
    "    return accuracy"
   ]
  },
  {
   "cell_type": "code",
   "execution_count": 263,
   "metadata": {},
   "outputs": [],
   "source": [
    "#This function takes in a data matrix X, label vector y, and \n",
    "#the desired percentage testpercent. It randomly assigns  \n",
    "#testpercent of the rows of X and y to Xtest and ytest. \n",
    "#The remaining data is assigned to Xtrain and ytrain.\n",
    "\n",
    "def split_data(X,y,testpercent):\n",
    "        \n",
    "    [n, d] = X.shape\n",
    "    \n",
    "    ntest = int(round(n*(float(testpercent)/100)))\n",
    "    ntrain = int(round(n - ntest))\n",
    "        \n",
    "    Xtrain = np.zeros((ntrain,d))\n",
    "    Xtest = np.zeros((ntest,d))\n",
    "    ytrain = np.zeros((ntrain,1))\n",
    "    ytest = np.zeros((ntest,1))   \n",
    "        \n",
    "    Data = np.column_stack((X,y))\n",
    "    Data = np.random.permutation(Data)\n",
    "    \n",
    "    for i in range(ntest):\n",
    "        Xtest[i,:] = Data[i,0:d]\n",
    "        ytest[i] = Data[i,d]\n",
    "        \n",
    "    for i in range(ntrain):\n",
    "        Xtrain[i,:] = Data[i+ntest,0:d]\n",
    "        ytrain[i] = Data[i+ntest,d]\n",
    "        \n",
    "    return Xtrain, ytrain, Xtest, ytest"
   ]
  },
  {
   "cell_type": "code",
   "execution_count": 264,
   "metadata": {},
   "outputs": [],
   "source": [
    "#This code implements the PCA exactly as in MATLAB so as to be consistent.\n",
    "#It takes in an n x d data matrix X and returns a d x d orthonormal matrix pcaX. \n",
    "#Each column of pcaX contains a basis vector, sorted by decreasing variance.\n",
    "\n",
    "def pca(X):\n",
    "    covX = np.cov(X,rowvar=False)\n",
    "    [Lambda,Vtranspose] = np.linalg.eig(covX)\n",
    "    neworder = np.argsort(-abs(Lambda))\n",
    "    pcaX = Vtranspose[:,neworder]\n",
    "    pcaX = pcaX.real\n",
    "    return pcaX"
   ]
  },
  {
   "cell_type": "code",
   "execution_count": 265,
   "metadata": {},
   "outputs": [],
   "source": [
    "#This function takes in a data matrix X and a label\n",
    "#vector y and outputs the average cat image and average dog image.\n",
    "\n",
    "def average_pet(X,y):\n",
    "    cat_index=((y.flatten()-1)).astype(bool)\n",
    "    dog_index=((y.flatten()+1)).astype(bool)\n",
    "    catarr=X[cat_index]\n",
    "    dogarr=X[dog_index]\n",
    "    avgcat=catarr.mean(axis=0)\n",
    "    avgdog=dogarr.mean(axis=0)\n",
    "    return avgcat, avgdog"
   ]
  },
  {
   "cell_type": "code",
   "execution_count": 266,
   "metadata": {},
   "outputs": [],
   "source": [
    "#This function takes in a training data matrix Xtrain, training\n",
    "#label vector ytrain and uses them to compute the average cat\n",
    "#and dog vectors. It also takes in a data matrix Xrun and \n",
    "#produces a vector of label guesses yguess, corresponding to whether\n",
    "#each row of Xtest is closer to the average cat or average dog.\n",
    "\n",
    "def closest_average(Xtrain,ytrain,Xrun):\n",
    "    avgcat, avgdog=average_pet(Xtrain,ytrain)\n",
    "    yguess=np.zeros((len(Xrun),1))\n",
    "    for i in range (len(Xrun)):\n",
    "        mse_cat = np.square(np.subtract(avgcat,Xrun[i])).mean() \n",
    "        mse_dog = np.square(np.subtract(avgdog,Xrun[i])).mean()\n",
    "        #output the category with least mse\n",
    "        if mse_dog>mse_cat:\n",
    "            yguess[i]=-1\n",
    "        else:\n",
    "            yguess[i]=1\n",
    "    return yguess"
   ]
  },
  {
   "cell_type": "code",
   "execution_count": 267,
   "metadata": {},
   "outputs": [],
   "source": [
    "#This function takes in a training data matrix Xtrain, training\n",
    "#label vector ytrain and uses them to compute the average cat\n",
    "#and dog vectors. It also takes in a data matrix Xrun and \n",
    "#produces a vector of label guesses yguess. Each guess is found\n",
    "#by searching through Xtrain to find the closest row, and then \n",
    "#outputting its label.\n",
    "\n",
    "def nearest_neighbor(Xtrain,ytrain,Xrun):\n",
    "    yguess=np.zeros((len(Xrun),1))\n",
    "    for i in range(len(Xrun)):\n",
    "        #holds the index that minimizes mse\n",
    "        min_index=0\n",
    "        #holds the previous minimum\n",
    "        min_mse=np.square(np.subtract(Xrun[i],Xtrain[0])).mean()\n",
    "        for j in range(len(Xtrain)):\n",
    "            mse = np.square(np.subtract(Xrun[i],Xtrain[j])).mean()\n",
    "            if mse<min_mse:\n",
    "                min_index=j\n",
    "                min_mse=mse\n",
    "        yguess[i]=ytrain[min_index]\n",
    "    return yguess"
   ]
  },
  {
   "cell_type": "code",
   "execution_count": 268,
   "metadata": {},
   "outputs": [],
   "source": [
    "#This function takes in a training data matrix Xtrain, training\n",
    "#label vector ytrain and uses them to compute ordinary-least-squares\n",
    "#vector b. It also takes in a data matrix Xrun and \n",
    "#produces a vector of label guesses yguess, corresponding to the sign\n",
    "#of the linear prediction.\n",
    "\n",
    "def linear_regression(Xtrain,ytrain,Xrun):\n",
    "    #model = LinearRegression()\n",
    "    #model.fit(Xtrain, ytrain)\n",
    "    #y_pred = model.predict(Xrun)\n",
    "    #yguess=np.sign(y_pred)\n",
    "    b=np.matmul(np.matmul(np.linalg.pinv(np.matmul(Xtrain.T, Xtrain)),Xtrain.T),ytrain)\n",
    "    y_pred=np.matmul(Xrun,b)\n",
    "    yguess=np.sign(y_pred)\n",
    "    return yguess"
   ]
  },
  {
   "cell_type": "code",
   "execution_count": 269,
   "metadata": {},
   "outputs": [],
   "source": [
    "#This function takes in a training data matrix Xtrain, training\n",
    "#label vector ytrain and uses them to compute the PCA basis. \n",
    "#It also takes in a data matrix Xrun and a dimension k\n",
    "#and uses the top-k vectors in the PCA basis to reduce the \n",
    "#dimension of Xtrain and Xrun. Finally, it uses the reduced data\n",
    "#as inputs to the linear_regression function to produce \n",
    "#a vector of label guesses yguess.\n",
    "\n",
    "def pca_regression(Xtrain,ytrain,Xrun,k):\n",
    "    X=np.concatenate((Xtrain, Xrun), axis=0)\n",
    "    #choose top k basis for Xtrain\n",
    "    Xtrain_reduced=pca(X.T)[0:len(Xtrain),0:k]\n",
    "    #choose top k basis for Xrun\n",
    "    Xrun_reduced=pca(X.T)[len(Xtrain):,0:k]\n",
    "    yguess=linear_regression(Xtrain_reduced,ytrain,Xrun_reduced)\n",
    "    return yguess"
   ]
  },
  {
   "cell_type": "code",
   "execution_count": 270,
   "metadata": {},
   "outputs": [
    {
     "data": {
      "image/png": "[encoded data removed]",
      "text/plain": [
       "<Figure size 432x288 with 1 Axes>"
      ]
     },
     "metadata": {
      "needs_background": "light"
     },
     "output_type": "display_data"
    }
   ],
   "source": [
    "#11.1\n",
    "X,y = read_data()\n",
    "avgcat, avgdog=average_pet(X,y)\n",
    "img=np.zeros((2,4096))\n",
    "img[0]=avgcat\n",
    "img[1]=avgdog\n",
    "show_image(img,0)\n"
   ]
  },
  {
   "cell_type": "code",
   "execution_count": 287,
   "metadata": {},
   "outputs": [],
   "source": [
    "def cnn(Xtrain,ytrain,Xrun):\n",
    "    import tensorflow as tf\n",
    "    from tensorflow.keras.models import Sequential\n",
    "    from tensorflow.keras.layers import Dense, Dropout, Activation, Flatten\n",
    "    from tensorflow.keras.layers import Conv2D, MaxPooling2D\n",
    "    import os\n",
    "    os.environ['KMP_DUPLICATE_LIB_OK']='True'\n",
    "    tf.keras.backend.clear_session()\n",
    "    p = np.random.permutation(len(Xtrain))\n",
    "    X_=Xtrain[p]\n",
    "    y_=ytrain[p]\n",
    "    X_=np.array(X_).reshape(-1,64,64,1)\n",
    "    X_ = X_/255.0\n",
    "    y_=(y_+1)/2\n",
    "    model = Sequential()\n",
    "\n",
    "    model.add(Conv2D(64, (3, 3), input_shape=X_.shape[1:]))\n",
    "    model.add(Activation('relu'))\n",
    "    model.add(MaxPooling2D(pool_size=(2, 2)))\n",
    "    model.add(Conv2D(64, (3, 3)))\n",
    "    model.add(Activation('relu'))\n",
    "    model.add(MaxPooling2D(pool_size=(2, 2)))\n",
    "    model.add(Flatten()) \n",
    "\n",
    "    model.add(Dense(64))\n",
    "\n",
    "    model.add(Dense(1))\n",
    "    model.add(Activation('sigmoid'))\n",
    "\n",
    "    model.compile(loss='binary_crossentropy',\n",
    "                  optimizer='adam',\n",
    "                  metrics=['accuracy'])\n",
    "\n",
    "    model.fit(X_, y_, batch_size=32, epochs=7, validation_split=0.1)\n",
    "    result=model.predict(np.array(Xrun).reshape(-1,64,64,1)/255.0)\n",
    "    yguess=((result>0.5).astype(float)-0.5)*2\n",
    "    result_train=model.predict(np.array(Xtrain).reshape(-1,64,64,1)/255.0)\n",
    "    yguess_train=((result_train>0.5).astype(float)-0.5)*2\n",
    "    return yguess,yguess_train"
   ]
  },
  {
   "cell_type": "code",
   "execution_count": 288,
   "metadata": {},
   "outputs": [
    {
     "name": "stdout",
     "output_type": "stream",
     "text": [
      "Train on 1440 samples, validate on 160 samples\n",
      "Epoch 1/6\n",
      "1440/1440 [==============================] - 7s 5ms/sample - loss: 0.4938 - accuracy: 0.7965 - val_loss: 0.2513 - val_accuracy: 0.8938\n",
      "Epoch 2/6\n",
      "1440/1440 [==============================] - 7s 5ms/sample - loss: 0.1421 - accuracy: 0.9507 - val_loss: 0.1728 - val_accuracy: 0.9375\n",
      "Epoch 3/6\n",
      "1440/1440 [==============================] - 7s 5ms/sample - loss: 0.0954 - accuracy: 0.9688 - val_loss: 0.1182 - val_accuracy: 0.9500\n",
      "Epoch 4/6\n",
      "1440/1440 [==============================] - 7s 5ms/sample - loss: 0.0545 - accuracy: 0.9812 - val_loss: 0.1162 - val_accuracy: 0.9500\n",
      "Epoch 5/6\n",
      "1440/1440 [==============================] - 7s 5ms/sample - loss: 0.0418 - accuracy: 0.9875 - val_loss: 0.0990 - val_accuracy: 0.9688\n",
      "Epoch 6/6\n",
      "1440/1440 [==============================] - 7s 5ms/sample - loss: 0.0402 - accuracy: 0.9847 - val_loss: 0.1228 - val_accuracy: 0.9625\n",
      "training accuracy 98.0625\n",
      "test accuracy 98.25\n"
     ]
    }
   ],
   "source": [
    "\n",
    "X,y = read_data()\n",
    "p = np.random.permutation(len(X))\n",
    "X=X[p]\n",
    "y=y[p]\n",
    "Xtrain, ytrain, Xtest, ytest=split_data(X,y,20)\n",
    "yguess,yguess_train=cnn(Xtrain,ytrain,Xtest)\n",
    "\n",
    "print(\"training accuracy\",calculate_accuracy(ytrain, yguess_train))\n",
    "print(\"test accuracy\",calculate_accuracy(ytest, yguess))"
   ]
  },
  {
   "cell_type": "code",
   "execution_count": 289,
   "metadata": {},
   "outputs": [
    {
     "name": "stdout",
     "output_type": "stream",
     "text": [
      "Train on 1440 samples, validate on 160 samples\n",
      "Epoch 1/6\n",
      "1440/1440 [==============================] - 8s 6ms/sample - loss: 0.4092 - accuracy: 0.7931 - val_loss: 0.1819 - val_accuracy: 0.9438\n",
      "Epoch 2/6\n",
      "1440/1440 [==============================] - 7s 5ms/sample - loss: 0.1265 - accuracy: 0.9590 - val_loss: 0.1058 - val_accuracy: 0.9625\n",
      "Epoch 3/6\n",
      "1440/1440 [==============================] - 7s 5ms/sample - loss: 0.0672 - accuracy: 0.9743 - val_loss: 0.0833 - val_accuracy: 0.9500\n",
      "Epoch 4/6\n",
      "1440/1440 [==============================] - 7s 5ms/sample - loss: 0.0380 - accuracy: 0.9896 - val_loss: 0.0547 - val_accuracy: 0.9750\n",
      "Epoch 5/6\n",
      "1440/1440 [==============================] - 7s 5ms/sample - loss: 0.0204 - accuracy: 0.9958 - val_loss: 0.0416 - val_accuracy: 0.9875\n",
      "Epoch 6/6\n",
      "1440/1440 [==============================] - 7s 5ms/sample - loss: 0.0177 - accuracy: 0.9937 - val_loss: 0.0458 - val_accuracy: 0.9875\n",
      "training accuracy 99.125\n",
      "test accuracy 96.5\n"
     ]
    }
   ],
   "source": [
    "\n",
    "X,y = read_data()\n",
    "p = np.random.permutation(len(X))\n",
    "X=X[p]\n",
    "y=y[p]\n",
    "Xtrain, ytrain, Xtest, ytest=split_data(X,y,20)\n",
    "yguess,yguess_train=cnn(Xtrain,ytrain,Xtest)\n",
    "\n",
    "print(\"training accuracy\",calculate_accuracy(ytrain, yguess_train))\n",
    "print(\"test accuracy\",calculate_accuracy(ytest, yguess))"
   ]
  },
  {
   "cell_type": "code",
   "execution_count": 290,
   "metadata": {},
   "outputs": [
    {
     "name": "stdout",
     "output_type": "stream",
     "text": [
      "Train on 1440 samples, validate on 160 samples\n",
      "Epoch 1/6\n",
      "1440/1440 [==============================] - 8s 5ms/sample - loss: 0.5476 - accuracy: 0.7486 - val_loss: 0.2356 - val_accuracy: 0.9250\n",
      "Epoch 2/6\n",
      "1440/1440 [==============================] - 7s 5ms/sample - loss: 0.1590 - accuracy: 0.9403 - val_loss: 0.1104 - val_accuracy: 0.9688\n",
      "Epoch 3/6\n",
      "1440/1440 [==============================] - 7s 5ms/sample - loss: 0.1022 - accuracy: 0.9590 - val_loss: 0.1151 - val_accuracy: 0.9563\n",
      "Epoch 4/6\n",
      "1440/1440 [==============================] - 7s 5ms/sample - loss: 0.0729 - accuracy: 0.9757 - val_loss: 0.1102 - val_accuracy: 0.9625\n",
      "Epoch 5/6\n",
      "1440/1440 [==============================] - 7s 5ms/sample - loss: 0.0446 - accuracy: 0.9854 - val_loss: 0.1036 - val_accuracy: 0.9688\n",
      "Epoch 6/6\n",
      "1440/1440 [==============================] - 7s 5ms/sample - loss: 0.0281 - accuracy: 0.9924 - val_loss: 0.0944 - val_accuracy: 0.9750\n",
      "training accuracy 99.3125\n",
      "test accuracy 98.0\n"
     ]
    }
   ],
   "source": [
    "\n",
    "X,y = read_data()\n",
    "p = np.random.permutation(len(X))\n",
    "X=X[p]\n",
    "y=y[p]\n",
    "Xtrain, ytrain, Xtest, ytest=split_data(X,y,20)\n",
    "yguess,yguess_train=cnn(Xtrain,ytrain,Xtest)\n",
    "\n",
    "print(\"training accuracy\",calculate_accuracy(ytrain, yguess_train))\n",
    "print(\"test accuracy\",calculate_accuracy(ytest, yguess))"
   ]
  },
  {
   "cell_type": "code",
   "execution_count": null,
   "metadata": {},
   "outputs": [],
   "source": []
  }
 ],
 "metadata": {
  "kernelspec": {
   "display_name": "Python 3",
   "language": "python",
   "name": "python3"
  },
  "language_info": {
   "codemirror_mode": {
    "name": "ipython",
    "version": 3
   },
   "file_extension": ".py",
   "mimetype": "text/x-python",
   "name": "python",
   "nbconvert_exporter": "python",
   "pygments_lexer": "ipython3",
   "version": "3.7.5"
  }
 },
 "nbformat": 4,
 "nbformat_minor": 2
}
